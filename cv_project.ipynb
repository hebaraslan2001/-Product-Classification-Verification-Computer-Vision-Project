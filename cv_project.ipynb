{
 "cells": [
  {
   "cell_type": "code",
   "execution_count": 1,
   "metadata": {},
   "outputs": [
    {
     "name": "stdout",
     "output_type": "stream",
     "text": [
      "WARNING:tensorflow:From c:\\Users\\ALSHARKAOY\\AppData\\Local\\Programs\\Python\\Python310\\lib\\site-packages\\keras\\src\\losses.py:2976: The name tf.losses.sparse_softmax_cross_entropy is deprecated. Please use tf.compat.v1.losses.sparse_softmax_cross_entropy instead.\n",
      "\n"
     ]
    }
   ],
   "source": [
    "import os\n",
    "from turtle import pd\n",
    "import cv2\n",
    "import matplotlib.pyplot as plt\n",
    "import numpy as np\n",
    "import tensorflow as tf\n",
    "from tqdm import tqdm\n",
    "from random import shuffle\n",
    "from keras.preprocessing.image import ImageDataGenerator\n",
    "from keras.models import Sequential\n",
    "from keras.layers import Conv2D, BatchNormalization, MaxPooling2D, Flatten, Dense, Dropout, Input, Add\n",
    "from keras.callbacks import ReduceLROnPlateau\n",
    "from sklearn.model_selection import train_test_split\n",
    "from keras import Model"
   ]
  },
  {
   "cell_type": "code",
   "execution_count": 2,
   "metadata": {},
   "outputs": [
    {
     "name": "stdout",
     "output_type": "stream",
     "text": [
      "{'1': 0, '2': 1, '3': 2, '4': 3, '5': 4, '6': 5, '7': 6, '8': 7, '9': 8, '10': 9, '11': 10, '12': 11, '13': 12, '14': 13, '15': 14, '16': 15, '17': 16, '18': 17, '19': 18, '20': 19}\n"
     ]
    }
   ],
   "source": [
    "class_names = ['1', '2', '3', '4', '5', '6', '7', '8', '9', '10', '11', '12', '13', '14', '15', '16', '17', '18', '19','20' ] \n",
    "class_names_label = {class_name: i for i, class_name in enumerate(class_names)}\n",
    "nb_classes = len(class_names)\n",
    "print(class_names_label) "
   ]
  },
  {
   "cell_type": "code",
   "execution_count": 3,
   "metadata": {},
   "outputs": [],
   "source": [
    "\n",
    "def load_data():\n",
    "    DIRECTORY = r\"C:/Users/ALSHARKAOY/Desktop/\" \n",
    "    CATEGORY = [\"training\", \"Validation\"]\n",
    "    output = []\n",
    "    img_size=(160,160)\n",
    "    for category in CATEGORY:\n",
    "        path = os.path.join(DIRECTORY, category)\n",
    "        print(path)\n",
    "        images = [] \n",
    "        labels =[]\n",
    "        print(\"Loading {}\".format(category))\n",
    "        for folder in os.listdir(path):\n",
    "            label = class_names_label[folder]\n",
    "            # Iterate through each image in our folder for file in os.listdir(os.path.join(path, folder)):\n",
    "            for file in os.listdir(os.path.join(path,folder)):\n",
    "                # Get the path name of the image\n",
    "                img_path = os.path.join(os.path.join(path, folder), file)\n",
    "                # Open and resize the img\n",
    "                image = cv2.imread(img_path)\n",
    "                #plt.imshow(cv2.cvtColor(image, cv2.COLOR_BGR2RGB))\n",
    "                #plt.show()\n",
    "                image = cv2.cvtColor(image, cv2.COLOR_BGR2RGB)\n",
    "                image = cv2.resize(image, img_size)\n",
    "                images.append(image)\n",
    "                labels.append(label)\n",
    "        images=np.array(images, dtype = 'float32')\n",
    "        lables=np.array(labels, dtype = 'int32')\n",
    "        output.append((images,labels))\n",
    "    return output        \n"
   ]
  },
  {
   "cell_type": "code",
   "execution_count": 4,
   "metadata": {},
   "outputs": [
    {
     "name": "stdout",
     "output_type": "stream",
     "text": [
      "C:/Users/ALSHARKAOY/Desktop/training\n",
      "Loading training\n",
      "C:/Users/ALSHARKAOY/Desktop/Validation\n",
      "Loading Validation\n"
     ]
    }
   ],
   "source": [
    "\n",
    "# Load data\n",
    "(train_images, train_labels), (test_images, test_labels) = load_data()\n",
    "\n",
    "# Initialize ImageDataGenerator for augmentation\n",
    "train_datagen = ImageDataGenerator(\n",
    "    rescale=1./255,\n",
    "    rotation_range=20,\n",
    "    width_shift_range=0.2,\n",
    "    height_shift_range=0.2,\n",
    "    shear_range=0.2,\n",
    "    zoom_range=0.2,\n",
    "    horizontal_flip=True,\n",
    "    fill_mode='nearest'\n",
    ")\n",
    "\n",
    "# Fit the ImageDataGenerator on your training data\n",
    "train_datagen.fit(train_images)\n",
    "\n",
    "# Use flow method to generate augmented images\n",
    "# Set the batch size and other parameters for generating augmented images\n",
    "augmented_images = []\n",
    "augmented_labels = []\n",
    "\n",
    "# Generate more samples using augmentation\n",
    "for X_batch, y_batch in train_datagen.flow(train_images, train_labels, batch_size=32, shuffle=True):\n",
    "    augmented_images.extend(X_batch)\n",
    "    augmented_labels.extend(y_batch)\n",
    "    if len(augmented_images) >= 10000:  # Generate a larger dataset, adjust as needed\n",
    "        break\n",
    "\n"
   ]
  },
  {
   "cell_type": "code",
   "execution_count": 5,
   "metadata": {},
   "outputs": [],
   "source": [
    "\n",
    "from sklearn.model_selection import train_test_split\n",
    "import numpy as np\n",
    "\n",
    "# Convert lists to numpy arrays\n",
    "augmented_images = np.array(augmented_images)\n",
    "augmented_labels = np.array(augmented_labels)\n",
    "\n",
    "# Combine the original training data with augmented data\n",
    "train_images = np.concatenate((train_images, augmented_images))\n",
    "train_labels = np.concatenate((train_labels, augmented_labels))\n",
    "\n",
    "# Convert lists to numpy arrays for the original test data\n",
    "test_images = np.array(test_images)\n",
    "test_labels = np.array(test_labels)\n",
    "\n",
    "# Split augmented data into training and validation sets\n",
    "train_images, val_images, train_labels, val_labels = train_test_split(train_images, train_labels, test_size=0.2, random_state=42)\n",
    "\n",
    "\n"
   ]
  },
  {
   "cell_type": "code",
   "execution_count": 6,
   "metadata": {},
   "outputs": [
    {
     "name": "stdout",
     "output_type": "stream",
     "text": [
      "WARNING:tensorflow:From c:\\Users\\ALSHARKAOY\\AppData\\Local\\Programs\\Python\\Python310\\lib\\site-packages\\keras\\src\\backend.py:873: The name tf.get_default_graph is deprecated. Please use tf.compat.v1.get_default_graph instead.\n",
      "\n",
      "WARNING:tensorflow:From c:\\Users\\ALSHARKAOY\\AppData\\Local\\Programs\\Python\\Python310\\lib\\site-packages\\keras\\src\\layers\\pooling\\max_pooling2d.py:161: The name tf.nn.max_pool is deprecated. Please use tf.nn.max_pool2d instead.\n",
      "\n",
      "WARNING:tensorflow:From c:\\Users\\ALSHARKAOY\\AppData\\Local\\Programs\\Python\\Python310\\lib\\site-packages\\keras\\src\\optimizers\\__init__.py:309: The name tf.train.Optimizer is deprecated. Please use tf.compat.v1.train.Optimizer instead.\n",
      "\n",
      "Epoch 1/10\n",
      "WARNING:tensorflow:From c:\\Users\\ALSHARKAOY\\AppData\\Local\\Programs\\Python\\Python310\\lib\\site-packages\\keras\\src\\utils\\tf_utils.py:492: The name tf.ragged.RaggedTensorValue is deprecated. Please use tf.compat.v1.ragged.RaggedTensorValue instead.\n",
      "\n",
      "WARNING:tensorflow:From c:\\Users\\ALSHARKAOY\\AppData\\Local\\Programs\\Python\\Python310\\lib\\site-packages\\keras\\src\\engine\\base_layer_utils.py:384: The name tf.executing_eagerly_outside_functions is deprecated. Please use tf.compat.v1.executing_eagerly_outside_functions instead.\n",
      "\n",
      "254/254 [==============================] - 82s 319ms/step - loss: 2.2357 - accuracy: 0.4585 - val_loss: 0.5169 - val_accuracy: 0.8950 - lr: 0.0010\n",
      "Epoch 2/10\n",
      "254/254 [==============================] - 83s 327ms/step - loss: 0.4784 - accuracy: 0.8808 - val_loss: 0.1762 - val_accuracy: 0.9690 - lr: 0.0010\n",
      "Epoch 3/10\n",
      "254/254 [==============================] - 80s 317ms/step - loss: 0.1974 - accuracy: 0.9593 - val_loss: 0.1167 - val_accuracy: 0.9818 - lr: 0.0010\n",
      "Epoch 4/10\n",
      "254/254 [==============================] - 78s 308ms/step - loss: 0.1287 - accuracy: 0.9686 - val_loss: 0.2632 - val_accuracy: 0.9280 - lr: 0.0010\n",
      "Epoch 5/10\n",
      "254/254 [==============================] - 78s 306ms/step - loss: 0.1103 - accuracy: 0.9740 - val_loss: 0.0630 - val_accuracy: 0.9823 - lr: 0.0010\n",
      "Epoch 6/10\n",
      "254/254 [==============================] - 77s 305ms/step - loss: 0.0941 - accuracy: 0.9771 - val_loss: 0.0798 - val_accuracy: 0.9788 - lr: 0.0010\n",
      "Epoch 7/10\n",
      "254/254 [==============================] - 78s 307ms/step - loss: 0.0810 - accuracy: 0.9820 - val_loss: 0.0700 - val_accuracy: 0.9759 - lr: 0.0010\n",
      "Epoch 8/10\n",
      "254/254 [==============================] - 79s 309ms/step - loss: 0.0431 - accuracy: 0.9863 - val_loss: 0.0484 - val_accuracy: 0.9852 - lr: 2.0000e-04\n",
      "Epoch 9/10\n",
      "254/254 [==============================] - 76s 300ms/step - loss: 0.0381 - accuracy: 0.9906 - val_loss: 0.0442 - val_accuracy: 0.9857 - lr: 2.0000e-04\n",
      "Epoch 10/10\n",
      "254/254 [==============================] - 84s 332ms/step - loss: 0.0273 - accuracy: 0.9922 - val_loss: 0.0498 - val_accuracy: 0.9892 - lr: 2.0000e-04\n",
      "64/64 [==============================] - 4s 62ms/step - loss: 0.0498 - accuracy: 0.9892\n",
      "trainig Test Accuracy: 0.9891571998596191\n"
     ]
    }
   ],
   "source": [
    "# Define your CNN model\n",
    "model = Sequential([\n",
    "    Conv2D(32, (3, 3), activation='relu', input_shape=(160, 160, 3)),\n",
    "    MaxPooling2D(2, 2),\n",
    "    Conv2D(64, (3, 3), activation='relu'),\n",
    "    MaxPooling2D(2, 2),\n",
    "    Conv2D(128, (3, 3), activation='relu'),\n",
    "    MaxPooling2D(2, 2),\n",
    "    Flatten(),\n",
    "    Dense(512, activation='relu'),\n",
    "    Dropout(0.5),\n",
    "    Dense(nb_classes, activation='softmax')\n",
    "])\n",
    "\n",
    "# Compile the model\n",
    "model.compile(optimizer='adam', loss='sparse_categorical_crossentropy', metrics=['accuracy'])\n",
    "\n",
    "# Set up learning rate reduction callback\n",
    "reduce_lr = ReduceLROnPlateau(monitor='val_loss', factor=0.2, patience=2, min_lr=1e-6)\n",
    "\n",
    "# Train the model with augmented data\n",
    "history = model.fit(train_images, train_labels, epochs=10, batch_size=32, validation_data=(val_images, val_labels), callbacks=[reduce_lr])\n",
    "\n",
    "# Evaluate the model on the test set\n",
    "test_loss, test_accuracy = model.evaluate(val_images, val_labels)\n",
    "print(\"trainig Test Accuracy:\", test_accuracy)\n"
   ]
  },
  {
   "cell_type": "code",
   "execution_count": 7,
   "metadata": {},
   "outputs": [
    {
     "data": {
      "image/png": "[encoded data removed]",
      "text/plain": [
       "<Figure size 640x480 with 1 Axes>"
      ]
     },
     "metadata": {},
     "output_type": "display_data"
    },
    {
     "data": {
      "image/png": "[encoded data removed]",
      "text/plain": [
       "<Figure size 640x480 with 1 Axes>"
      ]
     },
     "metadata": {},
     "output_type": "display_data"
    }
   ],
   "source": [
    "import matplotlib.pyplot as plt\n",
    "\n",
    "# Assuming you've trained your model and have the 'history' object\n",
    "# Train the model and save the 'history' object\n",
    "\n",
    "# Plot training & validation accuracy values\n",
    "plt.plot(history.history['accuracy'])\n",
    "plt.plot(history.history['val_accuracy'])\n",
    "plt.title('Model Accuracy')\n",
    "plt.xlabel('Epoch')\n",
    "plt.ylabel('Accuracy')\n",
    "plt.legend(['Train', 'Validation'], loc='upper left')\n",
    "plt.show()\n",
    "\n",
    "# Plot training & validation loss values\n",
    "plt.plot(history.history['loss'])\n",
    "plt.plot(history.history['val_loss'])\n",
    "plt.title('Model Loss')\n",
    "plt.xlabel('Epoch')\n",
    "plt.ylabel('Loss')\n",
    "plt.legend(['Train', 'Validation'], loc='upper left')\n",
    "plt.show()\n"
   ]
  },
  {
   "cell_type": "code",
   "execution_count": 18,
   "metadata": {},
   "outputs": [
    {
     "name": "stdout",
     "output_type": "stream",
     "text": [
      "1/1 [==============================] - 0s 23ms/step\n",
      "1/1 [==============================] - 0s 25ms/step\n",
      "1/1 [==============================] - 0s 25ms/step\n",
      "1/1 [==============================] - 0s 23ms/step\n",
      "1/1 [==============================] - 0s 22ms/step\n",
      "1/1 [==============================] - 0s 27ms/step\n",
      "1/1 [==============================] - 0s 25ms/step\n",
      "1/1 [==============================] - 0s 29ms/step\n",
      "1/1 [==============================] - 0s 29ms/step\n",
      "1/1 [==============================] - 0s 27ms/step\n",
      "1/1 [==============================] - 0s 35ms/step\n",
      "1/1 [==============================] - 0s 31ms/step\n",
      "1/1 [==============================] - 0s 30ms/step\n",
      "1/1 [==============================] - 0s 24ms/step\n",
      "1/1 [==============================] - 0s 25ms/step\n",
      "1/1 [==============================] - 0s 26ms/step\n",
      "1/1 [==============================] - 0s 26ms/step\n",
      "1/1 [==============================] - 0s 22ms/step\n",
      "1/1 [==============================] - 0s 23ms/step\n",
      "1/1 [==============================] - 0s 22ms/step\n",
      "1/1 [==============================] - 0s 24ms/step\n",
      "1/1 [==============================] - 0s 25ms/step\n",
      "1/1 [==============================] - 0s 24ms/step\n",
      "1/1 [==============================] - 0s 24ms/step\n",
      "1/1 [==============================] - 0s 27ms/step\n",
      "1/1 [==============================] - 0s 28ms/step\n",
      "1/1 [==============================] - 0s 27ms/step\n",
      "1/1 [==============================] - 0s 28ms/step\n",
      "1/1 [==============================] - 0s 24ms/step\n",
      "1/1 [==============================] - 0s 22ms/step\n",
      "1/1 [==============================] - 0s 25ms/step\n",
      "1/1 [==============================] - 0s 25ms/step\n",
      "1/1 [==============================] - 0s 23ms/step\n",
      "1/1 [==============================] - 0s 25ms/step\n",
      "1/1 [==============================] - 0s 26ms/step\n",
      "1/1 [==============================] - 0s 24ms/step\n",
      "1/1 [==============================] - 0s 21ms/step\n",
      "1/1 [==============================] - 0s 26ms/step\n",
      "1/1 [==============================] - 0s 23ms/step\n",
      "1/1 [==============================] - 0s 30ms/step\n",
      "1/1 [==============================] - 0s 24ms/step\n",
      "1/1 [==============================] - 0s 23ms/step\n",
      "1/1 [==============================] - 0s 22ms/step\n",
      "1/1 [==============================] - 0s 22ms/step\n",
      "1/1 [==============================] - 0s 24ms/step\n",
      "1/1 [==============================] - 0s 24ms/step\n",
      "1/1 [==============================] - 0s 24ms/step\n",
      "1/1 [==============================] - 0s 24ms/step\n",
      "1/1 [==============================] - 0s 22ms/step\n",
      "1/1 [==============================] - 0s 26ms/step\n",
      "1/1 [==============================] - 0s 28ms/step\n",
      "1/1 [==============================] - 0s 24ms/step\n",
      "1/1 [==============================] - 0s 22ms/step\n",
      "1/1 [==============================] - 0s 29ms/step\n",
      "1/1 [==============================] - 0s 23ms/step\n",
      "1/1 [==============================] - 0s 26ms/step\n",
      "1/1 [==============================] - 0s 23ms/step\n",
      "1/1 [==============================] - 0s 25ms/step\n",
      "1/1 [==============================] - 0s 24ms/step\n",
      "1/1 [==============================] - 0s 21ms/step\n",
      "1/1 [==============================] - 0s 24ms/step\n",
      "1/1 [==============================] - 0s 23ms/step\n",
      "1/1 [==============================] - 0s 23ms/step\n",
      "1/1 [==============================] - 0s 23ms/step\n",
      "1/1 [==============================] - 0s 24ms/step\n",
      "1/1 [==============================] - 0s 21ms/step\n",
      "1/1 [==============================] - 0s 23ms/step\n",
      "1/1 [==============================] - 0s 26ms/step\n"
     ]
    }
   ],
   "source": [
    "import os\n",
    "from keras.preprocessing import image\n",
    "import numpy as np\n",
    "\n",
    "# Assuming you have your folders organized like 'class_1', 'class_2', ..., 'class_n'\n",
    "# Get the list of folders (classes)\n",
    "root_directory = 'C:/Users/ALSHARKAOY/Desktop/SC Data/SC Data/Test Samples Classification'\n",
    "folders = os.listdir(root_directory)  \n",
    "class_accuracies = {}  \n",
    "total_correct_predictions = 0\n",
    "total_samples = 0\n",
    "\n",
    "for folder_name in folders:\n",
    "    class_name = folder_name  \n",
    "    folder_path = os.path.join(root_directory, folder_name)\n",
    "    \n",
    "    # Initialize counters for this class\n",
    "    class_total_samples = 0\n",
    "    class_correct_predictions = 0\n",
    "    \n",
    "    \n",
    "    for img_name in os.listdir(folder_path):\n",
    "        img_path = os.path.join(folder_path, img_name)\n",
    "        \n",
    "        \n",
    "        img = image.load_img(img_path, target_size=(160, 160))\n",
    "        img_array = image.img_to_array(img)\n",
    "        img_array = np.expand_dims(img_array, axis=0)\n",
    "        img_array = img_array / 255.0  # Normalize\n",
    "        \n",
    "        \n",
    "        predictions = model.predict(img_array)\n",
    "        predicted_class = np.argmax(predictions)\n",
    "        \n",
    "        \n",
    "        if class_names[predicted_class] == class_name:\n",
    "            class_correct_predictions += 1\n",
    "        \n",
    "        class_total_samples += 1\n",
    "    \n",
    "\n",
    "    class_accuracy = (\n",
    "        class_correct_predictions / class_total_samples if class_total_samples > 0 else 0\n",
    "    )\n",
    "    class_accuracies[class_name] = class_accuracy\n",
    "    \n",
    "  \n",
    "    total_correct_predictions += class_correct_predictions\n",
    "    total_samples += class_total_samples\n",
    "\n",
    "\n",
    "total_accuracy = (\n",
    "    total_correct_predictions / total_samples if total_samples > 0 else 0\n",
    ")\n",
    "\n",
    "\n",
    "\n"
   ]
  },
  {
   "cell_type": "code",
   "execution_count": 19,
   "metadata": {},
   "outputs": [
    {
     "name": "stdout",
     "output_type": "stream",
     "text": [
      "Class: 1, Accuracy: 25.00%\n",
      "Class: 10, Accuracy: 50.00%\n",
      "Class: 11, Accuracy: 75.00%\n",
      "Class: 13, Accuracy: 0.00%\n",
      "Class: 14, Accuracy: 66.67%\n",
      "Class: 15, Accuracy: 28.57%\n",
      "Class: 16, Accuracy: 0.00%\n",
      "Class: 2, Accuracy: 50.00%\n",
      "Class: 20, Accuracy: 33.33%\n",
      "Class: 4, Accuracy: 11.11%\n",
      "Class: 5, Accuracy: 60.00%\n",
      "Class: 6, Accuracy: 33.33%\n",
      "Class: 7, Accuracy: 100.00%\n",
      "Class: 8, Accuracy: 50.00%\n",
      "Class: 9, Accuracy: 100.00%\n",
      "Total Accuracy: 39.71%\n"
     ]
    }
   ],
   "source": [
    "\n",
    "\n",
    "for class_name, accuracy in class_accuracies.items():\n",
    "    print(f\"Class: {class_name}, Accuracy: {accuracy * 100:.2f}%\")\n",
    "\n",
    "# Print total accuracy\n",
    "print(f\"Total Accuracy: {total_accuracy * 100:.2f}%\")\n"
   ]
  }
 ],
 "metadata": {
  "kernelspec": {
   "display_name": "Python 3",
   "language": "python",
   "name": "python3"
  },
  "language_info": {
   "codemirror_mode": {
    "name": "ipython",
    "version": 3
   },
   "file_extension": ".py",
   "mimetype": "text/x-python",
   "name": "python",
   "nbconvert_exporter": "python",
   "pygments_lexer": "ipython3",
   "version": "3.10.2"
  }
 },
 "nbformat": 4,
 "nbformat_minor": 2
}
